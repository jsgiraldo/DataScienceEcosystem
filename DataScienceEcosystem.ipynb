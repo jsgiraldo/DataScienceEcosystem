{
 "cells": [
  {
   "cell_type": "markdown",
   "id": "cd1bc2e6-4e0b-449a-9fdc-15a7a05a78d1",
   "metadata": {},
   "source": [
    "# Data Science Tools and Ecosystem"
   ]
  },
  {
   "cell_type": "markdown",
   "id": "d872f1d9-db2d-4818-9df4-fe3ef60a3c5b",
   "metadata": {},
   "source": [
    "In this notebook, the tools and ecosystems of data science are summarized.\n",
    "\n"
   ]
  },
  {
   "cell_type": "markdown",
   "id": "78c4d8b5-7de1-4cba-a3fc-2241b85c6468",
   "metadata": {},
   "source": [
    "Some popular languages used by data scientists are:\n",
    "1. Python\n",
    "2. R\n",
    "3. SQL\n"
   ]
  },
  {
   "cell_type": "markdown",
   "id": "7634b8db-22e4-408f-93a8-340c36578124",
   "metadata": {},
   "source": [
    "Some commonly used libraries by data scientists include:\n",
    "1. Pandas\n",
    "2. NumPy\n",
    "3. Matplotlib\n"
   ]
  },
  {
   "cell_type": "markdown",
   "id": "59cf2122-60dd-4f0b-9922-fe3b54553060",
   "metadata": {},
   "source": [
    "| Data Science Tools               |\n",
    "| --------------------------------- |\n",
    "| Jupyter Notebook                  |\n",
    "| RStudio                           |\n",
    "| Apache Zeppelin                   |\n",
    "\n"
   ]
  },
  {
   "cell_type": "markdown",
   "id": "5a2c3962-2211-40b4-aac5-f488b1e10333",
   "metadata": {},
   "source": [
    "### Below are some examples of evaluating arithmetic expressions in Python.\n"
   ]
  },
  {
   "cell_type": "code",
   "execution_count": 1,
   "id": "c4459303-d4c1-4329-9472-d1fd6a5af584",
   "metadata": {},
   "outputs": [
    {
     "data": {
      "text/plain": [
       "17"
      ]
     },
     "execution_count": 1,
     "metadata": {},
     "output_type": "execute_result"
    }
   ],
   "source": [
    "# This is a simple arithmetic expression to multiply and then add integers\n",
    "result = (3 * 4) + 5\n",
    "result"
   ]
  },
  {
   "cell_type": "code",
   "execution_count": 2,
   "id": "1168326a-37e2-46fe-8049-34ffed9463d7",
   "metadata": {},
   "outputs": [
    {
     "data": {
      "text/plain": [
       "3.3333333333333335"
      ]
     },
     "execution_count": 2,
     "metadata": {},
     "output_type": "execute_result"
    }
   ],
   "source": [
    "# This will convert 200 minutes to hours by dividing by 60\n",
    "hours = 200 / 60\n",
    "hours"
   ]
  },
  {
   "cell_type": "markdown",
   "id": "8869134e-aff9-4611-9fea-9cd85dd2b287",
   "metadata": {},
   "source": [
    "**Objectives:**\n",
    "- List popular languages for Data Science\n",
    "- Enumerate libraries used in Data Science\n",
    "- Present data science tools\n",
    "\n"
   ]
  },
  {
   "cell_type": "markdown",
   "id": "ed32564b-f1d6-44e6-b954-448796670699",
   "metadata": {},
   "source": [
    "## Author\n",
    "Jordan Stiven Giraldo"
   ]
  },
  {
   "cell_type": "code",
   "execution_count": null,
   "id": "57933d16-ff63-4c13-8d67-036ba15b1057",
   "metadata": {},
   "outputs": [],
   "source": []
  }
 ],
 "metadata": {
  "kernelspec": {
   "display_name": "Python 3 (ipykernel)",
   "language": "python",
   "name": "python3"
  },
  "language_info": {
   "codemirror_mode": {
    "name": "ipython",
    "version": 3
   },
   "file_extension": ".py",
   "mimetype": "text/x-python",
   "name": "python",
   "nbconvert_exporter": "python",
   "pygments_lexer": "ipython3",
   "version": "3.11.9"
  }
 },
 "nbformat": 4,
 "nbformat_minor": 5
}
